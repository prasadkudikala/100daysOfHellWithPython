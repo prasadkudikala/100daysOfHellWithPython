{
 "cells": [
  {
   "cell_type": "markdown",
   "metadata": {},
   "source": [
    "1. **Operators and Logical Expressions**  \n",
    "   - **Question**: You have a list of stock prices over 30 days. Write a logical expression that will identify consecutive price drops over three days or more. For instance, `[120, 118, 115, 110]` would qualify, but `[120, 118, 120, 110]` would not."
   ]
  },
  {
   "cell_type": "code",
   "execution_count": 35,
   "metadata": {},
   "outputs": [
    {
     "name": "stdout",
     "output_type": "stream",
     "text": [
      "Trines are [120, 118, 115]\n",
      "Trines are [118, 115, 110]\n",
      "2 consecutive price drops\n"
     ]
    }
   ],
   "source": [
    "#Write your code here\n",
    "# [120, 118, 115, 110] would qualify, but [120, 118, 120, 110] would not.\n",
    "a = [120, 118, 115, 110]\n",
    "# a = [573,18,264,921,825,750,891,89,389,524,632,494,447,289,817,24,443,680,257,111,613,771,125,740,497,418,716,48,412,209,544,349,311,301,997,716,83,429,105,58,276,721,150,392,980,98,962,179,367,636]\n",
    "# a_len = len(a)\n",
    "trines_list = []\n",
    "for i in range(len(a)-2):\n",
    "    if (a[i] >= a[i+1] >= a[i+2]):\n",
    "        trines_list.append(a[i:i+3])\n",
    "        print (f\"Trines are {a[i:i+3]}\")\n",
    "\n",
    "\n",
    "final = \"No consecutive price drops over three days\" if len(trines_list) < 1 else f\"{len(trines_list)} consecutive price drops\" if len(trines_list) > 1 else \"\"\n",
    "print (final)"
   ]
  },
  {
   "cell_type": "markdown",
   "metadata": {},
   "source": [
    "2. **If-Else Statements**  \n",
    "   - **Question**: You are designing an algorithm to trade stocks. If the current price of a stock is above the 30-day moving average, print `\"Buy Signal\"`; otherwise, print `\"Sell Signal\"`. Assume you have a list of daily prices and that the moving average can be calculated."
   ]
  },
  {
   "cell_type": "code",
   "execution_count": 43,
   "metadata": {},
   "outputs": [
    {
     "name": "stdout",
     "output_type": "stream",
     "text": [
      "Buy Signal\n"
     ]
    }
   ],
   "source": [
    "#Write your code here\n",
    "def moving_average(price_list, days_length):\n",
    "    return sum(price_list)/days_length\n",
    "\n",
    "prices = [573,18,264,921,825,750,891,89,389,524,632,494,447,289,817,24,443,680,257,111,613,771,125,740,497,418,716,48,412,209,544,349,311,301,997,716,83,429,105,58,276,721,150,392,980,98,962,179,367,636]\n",
    "dayslength = 30\n",
    "days30_SMA = moving_average(prices, dayslength)\n",
    "\n",
    "todays_price = 5000\n",
    "\n",
    "# if todays_price > days30_SMA: \n",
    "#     print(\"Buy Signal\") \n",
    "# else: \n",
    "#     print(\"Sell Signal\")\n",
    "\n",
    "print(\"Buy Signal\") if todays_price > days30_SMA else print(\"Sell Signal\")"
   ]
  },
  {
   "cell_type": "markdown",
   "metadata": {},
   "source": [
    "3. **Modules (pandas)**  \n",
    "   - **Question**: Use the `pandas` library to load a CSV file containing historical trading data and calculate the daily percentage change of closing prices over a period of time."
   ]
  },
  {
   "cell_type": "code",
   "execution_count": 97,
   "metadata": {},
   "outputs": [
    {
     "name": "stdout",
     "output_type": "stream",
     "text": [
      "Start Time: 1739562982.916226 seconds\n",
      "End Time: 1739562982.919224 seconds\n",
      "Total Execution Time: 0.002998 seconds\n"
     ]
    },
    {
     "data": {
      "text/html": [
       "<div>\n",
       "<style scoped>\n",
       "    .dataframe tbody tr th:only-of-type {\n",
       "        vertical-align: middle;\n",
       "    }\n",
       "\n",
       "    .dataframe tbody tr th {\n",
       "        vertical-align: top;\n",
       "    }\n",
       "\n",
       "    .dataframe thead th {\n",
       "        text-align: right;\n",
       "    }\n",
       "</style>\n",
       "<table border=\"1\" class=\"dataframe\">\n",
       "  <thead>\n",
       "    <tr style=\"text-align: right;\">\n",
       "      <th></th>\n",
       "      <th>Date</th>\n",
       "      <th>Open</th>\n",
       "      <th>High</th>\n",
       "      <th>Low</th>\n",
       "      <th>Close</th>\n",
       "      <th>Volume</th>\n",
       "      <th>percent_change</th>\n",
       "      <th>new col</th>\n",
       "    </tr>\n",
       "  </thead>\n",
       "  <tbody>\n",
       "    <tr>\n",
       "      <th>0</th>\n",
       "      <td>2025-02-04</td>\n",
       "      <td>208.780786</td>\n",
       "      <td>593.841388</td>\n",
       "      <td>75.160839</td>\n",
       "      <td>187.091400</td>\n",
       "      <td>2272</td>\n",
       "      <td>-10.39</td>\n",
       "      <td>new column data</td>\n",
       "    </tr>\n",
       "    <tr>\n",
       "      <th>1</th>\n",
       "      <td>2025-02-05</td>\n",
       "      <td>133.559765</td>\n",
       "      <td>619.745276</td>\n",
       "      <td>93.740758</td>\n",
       "      <td>298.598351</td>\n",
       "      <td>7966</td>\n",
       "      <td>123.57</td>\n",
       "      <td>new column data</td>\n",
       "    </tr>\n",
       "    <tr>\n",
       "      <th>2</th>\n",
       "      <td>2025-02-06</td>\n",
       "      <td>280.225914</td>\n",
       "      <td>574.688711</td>\n",
       "      <td>58.848214</td>\n",
       "      <td>233.311336</td>\n",
       "      <td>3383</td>\n",
       "      <td>-16.74</td>\n",
       "      <td>new column data</td>\n",
       "    </tr>\n",
       "    <tr>\n",
       "      <th>3</th>\n",
       "      <td>2025-02-07</td>\n",
       "      <td>199.460553</td>\n",
       "      <td>670.773363</td>\n",
       "      <td>69.850996</td>\n",
       "      <td>351.529605</td>\n",
       "      <td>9118</td>\n",
       "      <td>76.24</td>\n",
       "      <td>new column data</td>\n",
       "    </tr>\n",
       "    <tr>\n",
       "      <th>4</th>\n",
       "      <td>2025-02-08</td>\n",
       "      <td>467.002100</td>\n",
       "      <td>670.058983</td>\n",
       "      <td>80.490799</td>\n",
       "      <td>481.043595</td>\n",
       "      <td>8152</td>\n",
       "      <td>3.01</td>\n",
       "      <td>new column data</td>\n",
       "    </tr>\n",
       "    <tr>\n",
       "      <th>5</th>\n",
       "      <td>2025-02-09</td>\n",
       "      <td>289.109430</td>\n",
       "      <td>649.631931</td>\n",
       "      <td>56.683993</td>\n",
       "      <td>181.463297</td>\n",
       "      <td>9041</td>\n",
       "      <td>-37.23</td>\n",
       "      <td>new column data</td>\n",
       "    </tr>\n",
       "    <tr>\n",
       "      <th>6</th>\n",
       "      <td>2025-02-10</td>\n",
       "      <td>157.855202</td>\n",
       "      <td>657.124209</td>\n",
       "      <td>52.824997</td>\n",
       "      <td>277.976541</td>\n",
       "      <td>8791</td>\n",
       "      <td>76.10</td>\n",
       "      <td>new column data</td>\n",
       "    </tr>\n",
       "    <tr>\n",
       "      <th>7</th>\n",
       "      <td>2025-02-11</td>\n",
       "      <td>420.545901</td>\n",
       "      <td>631.670084</td>\n",
       "      <td>75.568138</td>\n",
       "      <td>262.664631</td>\n",
       "      <td>6530</td>\n",
       "      <td>-37.54</td>\n",
       "      <td>new column data</td>\n",
       "    </tr>\n",
       "    <tr>\n",
       "      <th>8</th>\n",
       "      <td>2025-02-12</td>\n",
       "      <td>340.854133</td>\n",
       "      <td>669.514049</td>\n",
       "      <td>82.837978</td>\n",
       "      <td>418.935659</td>\n",
       "      <td>2554</td>\n",
       "      <td>22.91</td>\n",
       "      <td>new column data</td>\n",
       "    </tr>\n",
       "    <tr>\n",
       "      <th>9</th>\n",
       "      <td>2025-02-13</td>\n",
       "      <td>462.988555</td>\n",
       "      <td>651.790035</td>\n",
       "      <td>84.657067</td>\n",
       "      <td>250.353083</td>\n",
       "      <td>7909</td>\n",
       "      <td>-45.93</td>\n",
       "      <td>new column data</td>\n",
       "    </tr>\n",
       "  </tbody>\n",
       "</table>\n",
       "</div>"
      ],
      "text/plain": [
       "         Date        Open        High        Low       Close  Volume  \\\n",
       "0  2025-02-04  208.780786  593.841388  75.160839  187.091400    2272   \n",
       "1  2025-02-05  133.559765  619.745276  93.740758  298.598351    7966   \n",
       "2  2025-02-06  280.225914  574.688711  58.848214  233.311336    3383   \n",
       "3  2025-02-07  199.460553  670.773363  69.850996  351.529605    9118   \n",
       "4  2025-02-08  467.002100  670.058983  80.490799  481.043595    8152   \n",
       "5  2025-02-09  289.109430  649.631931  56.683993  181.463297    9041   \n",
       "6  2025-02-10  157.855202  657.124209  52.824997  277.976541    8791   \n",
       "7  2025-02-11  420.545901  631.670084  75.568138  262.664631    6530   \n",
       "8  2025-02-12  340.854133  669.514049  82.837978  418.935659    2554   \n",
       "9  2025-02-13  462.988555  651.790035  84.657067  250.353083    7909   \n",
       "\n",
       "   percent_change          new col  \n",
       "0          -10.39  new column data  \n",
       "1          123.57  new column data  \n",
       "2          -16.74  new column data  \n",
       "3           76.24  new column data  \n",
       "4            3.01  new column data  \n",
       "5          -37.23  new column data  \n",
       "6           76.10  new column data  \n",
       "7          -37.54  new column data  \n",
       "8           22.91  new column data  \n",
       "9          -45.93  new column data  "
      ]
     },
     "execution_count": 97,
     "metadata": {},
     "output_type": "execute_result"
    }
   ],
   "source": [
    "#Write your code here\n",
    "import pandas as pd\n",
    "import time \n",
    "\n",
    "start_time = time.time()\n",
    "\n",
    "\n",
    "try:\n",
    "    df = pd.read_csv('historical_trading_data.csv')\n",
    "except:\n",
    "    print(\"Error: The file 'historical_trading_data.csv' was not found.\")\n",
    "    exit()\n",
    "\n",
    "# print(df) \n",
    "\n",
    "# def calculate_daily_percentage(opening_price, closing_price):\n",
    "#     intermediate_value = (closing_price * 100)/opening_price\n",
    "#     percentage = (intermediate_value - 100)\n",
    "#     # return \"{0:.2f}\".format(percentage)\n",
    "#     return round(percentage,2)\n",
    "\n",
    "# calculate_daily_percentage(5,5.26)\n",
    "\n",
    "# def myFunc(row):\n",
    "#     return calculate_daily_percentage(row['Open'], row['Close'])\n",
    "\n",
    "# df = df.assign(percent_change = df.apply(myFunc, axis=1))\n",
    "\n",
    "df['percent_change'] = (((df['Close'] - df['Open']) / df['Open']) * 100).round(2)\n",
    "\n",
    "\n",
    "end_time = time.time()\n",
    "\n",
    "print(f\"Start Time: {start_time:.6f} seconds\")\n",
    "print(f\"End Time: {end_time:.6f} seconds\")\n",
    "print(f\"Total Execution Time: {end_time - start_time:.6f} seconds\")\n",
    "\n",
    "\n",
    "df['new col'] = \"new column data\"\n",
    "\n",
    "df "
   ]
  },
  {
   "cell_type": "markdown",
   "metadata": {},
   "source": [
    "4. **While Loop**  \n",
    "   - **Question**: Create a loop that repeatedly checks a stock price from a real-time source every 10 seconds until the stock falls below a threshold value. In this scenario, print `\"Threshold Exceeded\"` when the threshold is crossed."
   ]
  },
  {
   "cell_type": "code",
   "execution_count": null,
   "metadata": {},
   "outputs": [],
   "source": [
    "#Write your code here\n"
   ]
  },
  {
   "cell_type": "markdown",
   "metadata": {},
   "source": [
    "\n",
    "5. **For Loop**  \n",
    "   - **Question**: You have data on the opening and closing prices of multiple stocks in a portfolio. Using a for loop, calculate and print the total daily gain or loss for each stock in the portfolio."
   ]
  },
  {
   "cell_type": "code",
   "execution_count": null,
   "metadata": {},
   "outputs": [],
   "source": [
    "#Write your code here"
   ]
  },
  {
   "cell_type": "markdown",
   "metadata": {},
   "source": [
    "6. **Nested Loops**  \n",
    "   - **Question**: Create a nested loop that simulates a simple market-making strategy by placing buy and sell orders over a range of prices and volumes. Assume bid prices range from 90 to 100 and ask prices range from 101 to 110."
   ]
  },
  {
   "cell_type": "code",
   "execution_count": null,
   "metadata": {},
   "outputs": [],
   "source": [
    "#Write your code here"
   ]
  },
  {
   "cell_type": "markdown",
   "metadata": {},
   "source": [
    "7. **Complex If-Else Logic**  \n",
    "   - **Question**: You have a complex trading rule where a `\"Strong Buy\"` signal is given if the stock price is above both the 30-day and 50-day moving averages, a `\"Buy\"` signal is given if only above the 30-day, a `\"Hold\"` signal if above the 50-day, and a `\"Sell\"` signal otherwise. Calculate the signals assuming you have daily prices for at least 50 days."
   ]
  },
  {
   "cell_type": "code",
   "execution_count": null,
   "metadata": {},
   "outputs": [],
   "source": [
    "#Write your code here"
   ]
  },
  {
   "cell_type": "markdown",
   "metadata": {},
   "source": [
    "8. **Modules (numpy)**  \n",
    "   - **Question**: Use the `numpy` module to calculate the rolling average for a window of 5 days over a numpy array containing 20 stock prices."
   ]
  },
  {
   "cell_type": "code",
   "execution_count": null,
   "metadata": {},
   "outputs": [],
   "source": [
    "#Write your code here"
   ]
  },
  {
   "cell_type": "markdown",
   "metadata": {},
   "source": [
    "9. **Optimization with Loops**  \n",
    "   - **Question**: Calculate the best day to buy and the best day to sell to maximize profit within a list of daily prices using a single pass of nested loops."
   ]
  },
  {
   "cell_type": "code",
   "execution_count": null,
   "metadata": {},
   "outputs": [],
   "source": [
    "#Write your code here"
   ]
  },
  {
   "cell_type": "markdown",
   "metadata": {},
   "source": [
    "10. **Scenario Analysis**  \n",
    "   - **Question**: Given that a certain algorithm follows a strategy where every time a stock gains 5% in value from the last recorded price, the program places a sell order. Track the hypothetical prices over 15 days and identify when sell orders should be triggered."
   ]
  },
  {
   "cell_type": "markdown",
   "metadata": {},
   "source": [
    "### Python Mini Project 2 :\n",
    "\n",
    "Scenario: Simulated Stock Trading Bot\n",
    "\n",
    "**Objective:**\n",
    "Create a Python script that simulates trading over a dataset containing historical stock prices. The bot will decide whether to buy, hold, or sell based on the momentum calculated as the difference between the current price and the average price of the last few days.\n",
    "\n",
    "\n",
    "### Project Components:\n",
    "\n",
    "1. **Data Structure**:\n",
    "   - Use a list of tuples or dictionaries to simulate historical stock data with each element containing information about the stock price on a particular day.\n",
    "\n",
    "2. **Momentum Calculation**:\n",
    "   - Calculate the average price of the last N days and compare it with the current day's price to determine the momentum.\n",
    "\n",
    "3. **Trading Decisions**:\n",
    "   - Use if-else statements to make trading decisions based on the calculated momentum.\n",
    "\n",
    "4. **Trading Simulation**:\n",
    "   - Loop through the dataset and simulate trading decisions, updating the portfolio accordingly.\n",
    "\n",
    "5. **Performance Evaluation**:\n",
    "   - At the end of the simulation, calculate and print the final portfolio value and compare it with the initial value to gauge performance.\n",
    "\n",
    "### Skills and Python Features Used:\n",
    "- **Python Operators**: Use arithmetic operators to calculate averages, gains, and losses.\n",
    "- **Python if-else**: Make conditional decisions based on momentum and other trading indicators.\n",
    "- **Python Modules**: Use the `datetime` module for handling dates, `matplotlib` for plotting stock prices and portfolio value over time.\n",
    "- **Python While Loop**: Could be used to allow the simulation to run until a certain condition is met, like a stop-loss limit.\n",
    "- **Python for loop**: Iterate over each day in the stock dataset to simulate trading.\n",
    "\n",
    "\n"
   ]
  },
  {
   "cell_type": "code",
   "execution_count": null,
   "metadata": {},
   "outputs": [],
   "source": [
    "#Write your code here"
   ]
  }
 ],
 "metadata": {
  "kernelspec": {
   "display_name": "Python 3",
   "language": "python",
   "name": "python3"
  },
  "language_info": {
   "codemirror_mode": {
    "name": "ipython",
    "version": 3
   },
   "file_extension": ".py",
   "mimetype": "text/x-python",
   "name": "python",
   "nbconvert_exporter": "python",
   "pygments_lexer": "ipython3",
   "version": "3.8.0"
  }
 },
 "nbformat": 4,
 "nbformat_minor": 2
}
